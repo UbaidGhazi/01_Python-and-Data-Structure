{
 "cells": [
  {
   "cell_type": "code",
   "execution_count": 53,
   "id": "4af06829-9c87-460f-b3b7-d5cdc3de9f3f",
   "metadata": {},
   "outputs": [],
   "source": [
    "import numpy as np\n"
   ]
  },
  {
   "cell_type": "code",
   "execution_count": 54,
   "id": "2de9d51a-1224-417b-bcb8-10a4f93c35ba",
   "metadata": {},
   "outputs": [
    {
     "name": "stdout",
     "output_type": "stream",
     "text": [
      "[ 50  70 100 120]\n",
      "[ 50  70 100 120]\n"
     ]
    }
   ],
   "source": [
    "arr1 = np.array([20,30,40,50])\n",
    "arr2 = np.array([30,40,60,70])\n",
    "print(arr1+arr2)\n",
    "print(np.add(arr1,arr2))\n",
    "\n",
    "\n",
    "\n"
   ]
  },
  {
   "cell_type": "code",
   "execution_count": 56,
   "id": "8a8198ea-3aaa-41fe-a639-6a3ba29cffcf",
   "metadata": {},
   "outputs": [
    {
     "name": "stdout",
     "output_type": "stream",
     "text": [
      "[-10 -10 -20 -20]\n",
      "[-10 -10 -20 -20]\n"
     ]
    }
   ],
   "source": [
    "arr1 = np.array([20,30,40,50])\n",
    "arr2 = np.array([30,40,60,70])\n",
    "print(arr1-arr2)\n",
    "print(np.subtract(arr1,arr2))"
   ]
  },
  {
   "cell_type": "code",
   "execution_count": 57,
   "id": "5853a4d1-6bdb-4464-b091-aeb644944292",
   "metadata": {},
   "outputs": [
    {
     "name": "stdout",
     "output_type": "stream",
     "text": [
      "[-8070450532247928832  2565992168703393792                    0\n",
      "  5878960461428293632]\n"
     ]
    }
   ],
   "source": [
    "arr1 = np.array([20,30,40,50])\n",
    "arr2 = np.array([30])\n",
    "print(np.power(arr1,arr2))\n",
    "\n"
   ]
  },
  {
   "cell_type": "code",
   "execution_count": 60,
   "id": "9f9b84f3-504a-4803-a7c7-43bb5ca843d4",
   "metadata": {},
   "outputs": [
    {
     "name": "stdout",
     "output_type": "stream",
     "text": [
      "[4.47213595 5.47722558 6.32455532 7.07106781]\n"
     ]
    }
   ],
   "source": [
    "arr1 = np.array([20,30,40,50])\n",
    "print(np.sqrt(arr1))"
   ]
  },
  {
   "cell_type": "code",
   "execution_count": null,
   "id": "0988a08a-a586-499d-a809-702452add6be",
   "metadata": {},
   "outputs": [],
   "source": []
  }
 ],
 "metadata": {
  "kernelspec": {
   "display_name": "Python 3 (ipykernel)",
   "language": "python",
   "name": "python3"
  },
  "language_info": {
   "codemirror_mode": {
    "name": "ipython",
    "version": 3
   },
   "file_extension": ".py",
   "mimetype": "text/x-python",
   "name": "python",
   "nbconvert_exporter": "python",
   "pygments_lexer": "ipython3",
   "version": "3.12.4"
  }
 },
 "nbformat": 4,
 "nbformat_minor": 5
}
