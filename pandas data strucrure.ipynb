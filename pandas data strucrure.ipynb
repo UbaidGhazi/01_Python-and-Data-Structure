{
 "cells": [
  {
   "cell_type": "code",
   "execution_count": 20,
   "id": "f0dedb87-e807-448f-a6d5-7c2e9e9e41aa",
   "metadata": {},
   "outputs": [],
   "source": [
    "import pandas as pd"
   ]
  },
  {
   "cell_type": "code",
   "execution_count": 21,
   "id": "63f90f6f-fc20-4921-9892-48abdc4a6bc3",
   "metadata": {},
   "outputs": [
    {
     "name": "stdout",
     "output_type": "stream",
     "text": [
      "0    2\n",
      "1    3\n",
      "2    4\n",
      "3    5\n",
      "4    6\n",
      "5    7\n",
      "6    8\n",
      "7    9\n",
      "dtype: int64\n",
      "<class 'pandas.core.series.Series'>\n"
     ]
    }
   ],
   "source": [
    "x = [2,3,4,5,6,7,8,9]\n",
    "var = pd.Series(x)\n",
    "print(var)\n",
    "print(type(var))"
   ]
  },
  {
   "cell_type": "code",
   "execution_count": 22,
   "id": "943f6bbf-3fff-4ae4-92a8-db5a1586efbf",
   "metadata": {},
   "outputs": [
    {
     "name": "stdout",
     "output_type": "stream",
     "text": [
      "subject        [eng, math, phy, rrrs]\n",
      "rule       [good, better, else, nice]\n",
      "rank                     [1, 3, 2, 4]\n",
      "dtype: object\n",
      "<class 'pandas.core.series.Series'>\n"
     ]
    }
   ],
   "source": [
    "dic = {\"subject\":['eng','math','phy','rrrs'],\"rule\":['good','better','else','nice'],\"rank\":[1,3,2,4]}\n",
    "var = pd.Series(dic)\n",
    "print(var)\n",
    "print(type(var))"
   ]
  },
  {
   "cell_type": "code",
   "execution_count": 24,
   "id": "d28269d5-d1cf-405e-a83d-f8b3619ad2d0",
   "metadata": {},
   "outputs": [
    {
     "name": "stdout",
     "output_type": "stream",
     "text": [
      "   0\n",
      "0  2\n",
      "1  3\n",
      "2  4\n",
      "3  5\n",
      "4  6\n",
      "5  7\n",
      "6  8\n",
      "7  9\n",
      "<class 'pandas.core.frame.DataFrame'>\n"
     ]
    }
   ],
   "source": [
    "L = [1,2,3,4,5,6,7,8,9]\n",
    "var = pd.DataFrame(x)\n",
    "print(var)\n",
    "print(type(var))"
   ]
  },
  {
   "cell_type": "code",
   "execution_count": 25,
   "id": "423f2aeb-ecfb-465e-8896-4c854dffdc1e",
   "metadata": {},
   "outputs": [
    {
     "name": "stdout",
     "output_type": "stream",
     "text": [
      "  subject    rule  rank\n",
      "0     eng    good     1\n",
      "1    math  better     3\n",
      "2     phy    else     2\n",
      "3    rrrs    nice     4\n",
      "<class 'pandas.core.frame.DataFrame'>\n"
     ]
    }
   ],
   "source": [
    "dic = {\"subject\":['eng','math','phy','rrrs'],\"rule\":['good','better','else','nice'],\"rank\":[1,3,2,4]}\n",
    "var = pd.DataFrame(dic)\n",
    "print(var)\n",
    "print(type(var))"
   ]
  },
  {
   "cell_type": "code",
   "execution_count": null,
   "id": "ff813bff-865b-417c-841f-cb4b332a9638",
   "metadata": {},
   "outputs": [],
   "source": []
  }
 ],
 "metadata": {
  "kernelspec": {
   "display_name": "Python 3 (ipykernel)",
   "language": "python",
   "name": "python3"
  },
  "language_info": {
   "codemirror_mode": {
    "name": "ipython",
    "version": 3
   },
   "file_extension": ".py",
   "mimetype": "text/x-python",
   "name": "python",
   "nbconvert_exporter": "python",
   "pygments_lexer": "ipython3",
   "version": "3.12.4"
  }
 },
 "nbformat": 4,
 "nbformat_minor": 5
}
